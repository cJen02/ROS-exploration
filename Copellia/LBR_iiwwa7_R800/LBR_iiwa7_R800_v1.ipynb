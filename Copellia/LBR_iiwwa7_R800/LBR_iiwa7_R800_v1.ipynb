{
 "cells": [
  {
   "cell_type": "code",
   "execution_count": 143,
   "metadata": {},
   "outputs": [
    {
     "data": {
      "text/plain": [
       "0"
      ]
     },
     "execution_count": 143,
     "metadata": {},
     "output_type": "execute_result"
    }
   ],
   "source": [
    "import sim\n",
    "import time\n",
    "import sys\n",
    "\n",
    "import numpy as np\n",
    "\n",
    "def connect_Client():\n",
    "    sim.simxFinish(-1)\n",
    "    clientID = sim.simxStart('127.0.0.1', 19999, True, True, 5000, 5)         # port-19999\n",
    "\n",
    "    return clientID\n",
    "\n",
    "connect_Client()"
   ]
  },
  {
   "cell_type": "code",
   "execution_count": 147,
   "metadata": {},
   "outputs": [
    {
     "name": "stdout",
     "output_type": "stream",
     "text": [
      "Number of objects in the scene:  39\n"
     ]
    },
    {
     "data": {
      "text/plain": [
       "39"
      ]
     },
     "execution_count": 147,
     "metadata": {},
     "output_type": "execute_result"
    }
   ],
   "source": [
    "# Now try to retrieve data in a blocking fashion (i.e. a service call):\n",
    "\n",
    "def Nos_object(clientID = connect_Client()):\n",
    "    res,objs=sim.simxGetObjects(clientID,sim.sim_handle_all,sim.simx_opmode_blocking)\n",
    "    if res==sim.simx_return_ok:\n",
    "        print ('Number of objects in the scene: ',len(objs))\n",
    "    else:\n",
    "        print ('Remote API function call returned with error code: ',res)\n",
    "    return len(objs)\n",
    "\n",
    "Nos_object()"
   ]
  },
  {
   "cell_type": "code",
   "execution_count": 154,
   "metadata": {},
   "outputs": [
    {
     "name": "stdout",
     "output_type": "stream",
     "text": [
      "Added for Joint /LBRiiwa7R800/joint\n",
      "Added for Joint /LBRiiwa7R800/link2_resp/joint\n",
      "Added for Joint /LBRiiwa7R800/link3_resp/joint\n",
      "Added for Joint /LBRiiwa7R800/link4_resp/joint\n",
      "Added for Joint /LBRiiwa7R800/link5_resp/joint\n",
      "Added for Joint /LBRiiwa7R800/link6_resp/joint\n",
      "Added for Joint /LBRiiwa7R800/link7_resp/joint\n",
      "[17, 20, 23, 26, 29, 32, 35]\n"
     ]
    }
   ],
   "source": [
    "# setup control variable\n",
    "\n",
    "Joints = ['/LBRiiwa7R800/joint',\n",
    "         '/LBRiiwa7R800/link2_resp/joint',\n",
    "         '/LBRiiwa7R800/link3_resp/joint', \n",
    "         '/LBRiiwa7R800/link4_resp/joint',\n",
    "         '/LBRiiwa7R800/link5_resp/joint',\n",
    "         '/LBRiiwa7R800/link6_resp/joint',\n",
    "         '/LBRiiwa7R800/link7_resp/joint'\n",
    "         ]\n",
    "\n",
    "\n",
    "def init_Joint_var(Joints = [], clientID = connect_Client()):\n",
    "    Joint_Var = []\n",
    "\n",
    "    for joint in Joints:\n",
    "        try: err, var = sim.simxGetObjectHandle(clientID, joint, sim.simx_opmode_oneshot_wait)\n",
    "        except: pass\n",
    "\n",
    "        if err: print(\"Failed for Joint\", joint, [err, var])\n",
    "        else: \n",
    "            Joint_Var.append(var)\n",
    "            print(\"Added for Joint\", joint)\n",
    "    \n",
    "    print(Joint_Var)\n",
    "\n",
    "    return Joint_Var\n",
    "\n",
    "Joint_Var = init_Joint_var(Joints)"
   ]
  },
  {
   "cell_type": "code",
   "execution_count": null,
   "metadata": {},
   "outputs": [],
   "source": []
  },
  {
   "cell_type": "code",
   "execution_count": 159,
   "metadata": {},
   "outputs": [
    {
     "data": {
      "text/plain": [
       "(0, -5.735209285262499e-08)"
      ]
     },
     "execution_count": 159,
     "metadata": {},
     "output_type": "execute_result"
    }
   ],
   "source": [
    "sim.simxGetJointPosition(clientID, Joint_Var[0], sim.simx_opmode_oneshot_wait)"
   ]
  },
  {
   "cell_type": "code",
   "execution_count": 161,
   "metadata": {},
   "outputs": [
    {
     "data": {
      "text/plain": [
       "0"
      ]
     },
     "execution_count": 161,
     "metadata": {},
     "output_type": "execute_result"
    }
   ],
   "source": [
    "sim.simxSetJointTargetPosition(clientID, Joint_Var[0], 0, sim.simx_opmode_oneshot_wait)"
   ]
  },
  {
   "cell_type": "code",
   "execution_count": null,
   "metadata": {},
   "outputs": [],
   "source": []
  },
  {
   "cell_type": "code",
   "execution_count": 162,
   "metadata": {},
   "outputs": [
    {
     "data": {
      "text/plain": [
       "30"
      ]
     },
     "execution_count": 162,
     "metadata": {},
     "output_type": "execute_result"
    }
   ],
   "source": [
    "span1 = np.linspace(0, -np.pi, 10) \n",
    "span2 = np.linspace(-np.pi, np.pi, 10)\n",
    "span3 = np.linspace(np.pi, 0, 10)\n",
    "\n",
    "span = np.concatenate((span1, span2, span3))\n",
    "len(span)"
   ]
  },
  {
   "cell_type": "code",
   "execution_count": 164,
   "metadata": {},
   "outputs": [
    {
     "data": {
      "text/plain": [
       "[-5.735209285262499e-08,\n",
       " 1.387422532417304e-08,\n",
       " 0.0,\n",
       " -6.1389089367480665e-09,\n",
       " -3.25034221759779e-08,\n",
       " 1.7110610706083662e-09,\n",
       " 0.0]"
      ]
     },
     "execution_count": 164,
     "metadata": {},
     "output_type": "execute_result"
    }
   ],
   "source": [
    "def Get_Angles(Joints):\n",
    "    Pos = []\n",
    "    for Joint in Joint_Var:\n",
    "        err, pos = sim.simxGetJointPosition(clientID, Joint, sim.simx_opmode_oneshot_wait)\n",
    "        if err:\n",
    "            print(\"Failed for Joint\", Joint)\n",
    "            Pos.append(None)\n",
    "        else: Pos.append(pos)\n",
    "    return Pos\n",
    "            \n",
    "Get_Angles(Joints)"
   ]
  },
  {
   "cell_type": "code",
   "execution_count": null,
   "metadata": {},
   "outputs": [],
   "source": []
  },
  {
   "cell_type": "code",
   "execution_count": 165,
   "metadata": {},
   "outputs": [
    {
     "name": "stdout",
     "output_type": "stream",
     "text": [
      "0 0.0\n",
      "0 0.0\n",
      "0 0.0\n",
      "0 0.0\n",
      "0 0.0\n",
      "0 0.0\n",
      "0 0.0\n",
      "0 -0.3490658503988659\n",
      "0 -0.3490658503988659\n",
      "0 -0.3490658503988659\n",
      "0 -0.3490658503988659\n",
      "0 -0.3490658503988659\n",
      "0 -0.3490658503988659\n",
      "0 -0.3490658503988659\n",
      "0 -0.6981317007977318\n",
      "0 -0.6981317007977318\n",
      "0 -0.6981317007977318\n",
      "0 -0.6981317007977318\n",
      "0 -0.6981317007977318\n",
      "0 -0.6981317007977318\n",
      "0 -0.6981317007977318\n",
      "0 -1.0471975511965976\n",
      "0 -1.0471975511965976\n",
      "0 -1.0471975511965976\n",
      "0 -1.0471975511965976\n",
      "0 -1.0471975511965976\n",
      "0 -1.0471975511965976\n",
      "0 -1.0471975511965976\n",
      "0 -1.3962634015954636\n",
      "0 -1.3962634015954636\n",
      "0 -1.3962634015954636\n",
      "0 -1.3962634015954636\n",
      "0 -1.3962634015954636\n",
      "0 -1.3962634015954636\n",
      "0 -1.3962634015954636\n",
      "0 -1.7453292519943295\n",
      "0 -1.7453292519943295\n",
      "0 -1.7453292519943295\n",
      "0 -1.7453292519943295\n",
      "0 -1.7453292519943295\n",
      "0 -1.7453292519943295\n",
      "0 -1.7453292519943295\n",
      "0 -2.0943951023931953\n",
      "0 -2.0943951023931953\n",
      "0 -2.0943951023931953\n",
      "0 -2.0943951023931953\n",
      "0 -2.0943951023931953\n",
      "0 -2.0943951023931953\n",
      "0 -2.0943951023931953\n",
      "0 -2.443460952792061\n",
      "0 -2.443460952792061\n",
      "0 -2.443460952792061\n",
      "0 -2.443460952792061\n",
      "0 -2.443460952792061\n",
      "0 -2.443460952792061\n",
      "0 -2.443460952792061\n",
      "0 -2.792526803190927\n",
      "0 -2.792526803190927\n",
      "0 -2.792526803190927\n",
      "0 -2.792526803190927\n",
      "0 -2.792526803190927\n",
      "0 -2.792526803190927\n",
      "0 -2.792526803190927\n",
      "0 -3.141592653589793\n",
      "0 -3.141592653589793\n",
      "0 -3.141592653589793\n",
      "0 -3.141592653589793\n",
      "0 -3.141592653589793\n",
      "0 -3.141592653589793\n",
      "0 -3.141592653589793\n",
      "0 -3.141592653589793\n",
      "0 -3.141592653589793\n",
      "0 -3.141592653589793\n",
      "0 -3.141592653589793\n",
      "0 -3.141592653589793\n",
      "0 -3.141592653589793\n",
      "0 -3.141592653589793\n",
      "0 -2.443460952792061\n",
      "0 -2.443460952792061\n",
      "0 -2.443460952792061\n",
      "0 -2.443460952792061\n",
      "0 -2.443460952792061\n",
      "0 -2.443460952792061\n",
      "0 -2.443460952792061\n",
      "0 -1.7453292519943295\n",
      "0 -1.7453292519943295\n",
      "0 -1.7453292519943295\n",
      "0 -1.7453292519943295\n",
      "0 -1.7453292519943295\n",
      "0 -1.7453292519943295\n",
      "0 -1.7453292519943295\n",
      "0 -1.0471975511965979\n",
      "0 -1.0471975511965979\n",
      "0 -1.0471975511965979\n",
      "0 -1.0471975511965979\n",
      "0 -1.0471975511965979\n",
      "0 -1.0471975511965979\n",
      "0 -1.0471975511965979\n",
      "0 -0.34906585039886595\n",
      "0 -0.34906585039886595\n",
      "0 -0.34906585039886595\n",
      "0 -0.34906585039886595\n",
      "0 -0.34906585039886595\n",
      "0 -0.34906585039886595\n",
      "0 -0.34906585039886595\n",
      "0 0.34906585039886595\n",
      "0 0.34906585039886595\n",
      "0 0.34906585039886595\n",
      "0 0.34906585039886595\n",
      "0 0.34906585039886595\n",
      "0 0.34906585039886595\n",
      "0 0.34906585039886595\n",
      "0 1.0471975511965974\n",
      "0 1.0471975511965974\n",
      "0 1.0471975511965974\n",
      "0 1.0471975511965974\n",
      "0 1.0471975511965974\n",
      "0 1.0471975511965974\n",
      "0 1.0471975511965974\n",
      "0 1.7453292519943293\n",
      "0 1.7453292519943293\n",
      "0 1.7453292519943293\n",
      "0 1.7453292519943293\n",
      "0 1.7453292519943293\n",
      "0 1.7453292519943293\n",
      "0 1.7453292519943293\n",
      "0 2.443460952792061\n",
      "0 2.443460952792061\n",
      "0 2.443460952792061\n",
      "0 2.443460952792061\n",
      "0 2.443460952792061\n",
      "0 2.443460952792061\n",
      "0 2.443460952792061\n",
      "0 3.141592653589793\n",
      "0 3.141592653589793\n",
      "0 3.141592653589793\n",
      "0 3.141592653589793\n",
      "0 3.141592653589793\n",
      "0 3.141592653589793\n",
      "0 3.141592653589793\n",
      "0 3.141592653589793\n",
      "0 3.141592653589793\n",
      "0 3.141592653589793\n",
      "0 3.141592653589793\n",
      "0 3.141592653589793\n",
      "0 3.141592653589793\n",
      "0 3.141592653589793\n",
      "0 2.792526803190927\n",
      "0 2.792526803190927\n",
      "0 2.792526803190927\n",
      "0 2.792526803190927\n",
      "0 2.792526803190927\n",
      "0 2.792526803190927\n",
      "0 2.792526803190927\n",
      "0 2.443460952792061\n",
      "0 2.443460952792061\n",
      "0 2.443460952792061\n",
      "0 2.443460952792061\n",
      "0 2.443460952792061\n",
      "0 2.443460952792061\n",
      "0 2.443460952792061\n",
      "0 2.0943951023931957\n",
      "0 2.0943951023931957\n",
      "0 2.0943951023931957\n",
      "0 2.0943951023931957\n",
      "0 2.0943951023931957\n",
      "0 2.0943951023931957\n",
      "0 2.0943951023931957\n",
      "0 1.7453292519943295\n",
      "0 1.7453292519943295\n",
      "0 1.7453292519943295\n",
      "0 1.7453292519943295\n",
      "0 1.7453292519943295\n",
      "0 1.7453292519943295\n",
      "0 1.7453292519943295\n",
      "0 1.3962634015954636\n",
      "0 1.3962634015954636\n",
      "0 1.3962634015954636\n",
      "0 1.3962634015954636\n",
      "0 1.3962634015954636\n",
      "0 1.3962634015954636\n",
      "0 1.3962634015954636\n",
      "0 1.0471975511965979\n",
      "0 1.0471975511965979\n",
      "0 1.0471975511965979\n",
      "0 1.0471975511965979\n",
      "0 1.0471975511965979\n",
      "0 1.0471975511965979\n",
      "0 1.0471975511965979\n",
      "0 0.6981317007977319\n",
      "0 0.6981317007977319\n",
      "0 0.6981317007977319\n",
      "0 0.6981317007977319\n",
      "0 0.6981317007977319\n",
      "0 0.6981317007977319\n",
      "0 0.6981317007977319\n",
      "0 0.34906585039886595\n",
      "0 0.34906585039886595\n",
      "0 0.34906585039886595\n",
      "0 0.34906585039886595\n",
      "0 0.34906585039886595\n",
      "0 0.34906585039886595\n",
      "0 0.34906585039886595\n",
      "0 0.0\n",
      "0 0.0\n",
      "0 0.0\n",
      "0 0.0\n",
      "0 0.0\n",
      "0 0.0\n",
      "0 0.0\n"
     ]
    }
   ],
   "source": [
    "for i in span:\n",
    "    for Joint in Joint_Var:\n",
    "        err = sim.simxSetJointTargetPosition(clientID, Joint, i,sim.simx_opmode_oneshot_wait)\n",
    "        print(err, i)    "
   ]
  },
  {
   "cell_type": "code",
   "execution_count": null,
   "metadata": {},
   "outputs": [],
   "source": []
  },
  {
   "cell_type": "code",
   "execution_count": 166,
   "metadata": {},
   "outputs": [
    {
     "name": "stdout",
     "output_type": "stream",
     "text": [
      "0 1.5707963267948966\n",
      "0 1.5707963267948966\n",
      "0 1.5707963267948966\n",
      "0 1.5707963267948966\n",
      "0 1.5707963267948966\n",
      "0 1.5707963267948966\n",
      "0 1.5707963267948966\n",
      "0 3.141592653589793\n",
      "0 3.141592653589793\n",
      "0 3.141592653589793\n",
      "0 3.141592653589793\n",
      "0 3.141592653589793\n",
      "0 3.141592653589793\n",
      "0 3.141592653589793\n",
      "0 0\n",
      "0 0\n",
      "0 0\n",
      "0 0\n",
      "0 0\n",
      "0 0\n",
      "0 0\n",
      "0 -1.5707963267948966\n",
      "0 -1.5707963267948966\n",
      "0 -1.5707963267948966\n",
      "0 -1.5707963267948966\n",
      "0 -1.5707963267948966\n",
      "0 -1.5707963267948966\n",
      "0 -1.5707963267948966\n",
      "0 -3.141592653589793\n",
      "0 -3.141592653589793\n",
      "0 -3.141592653589793\n",
      "0 -3.141592653589793\n",
      "0 -3.141592653589793\n",
      "0 -3.141592653589793\n",
      "0 -3.141592653589793\n",
      "0 0\n",
      "0 0\n",
      "0 0\n",
      "0 0\n",
      "0 0\n",
      "0 0\n",
      "0 0\n"
     ]
    }
   ],
   "source": [
    "motion = [np.pi/2, np.pi, 0, \n",
    "          -np.pi/2, -np.pi, 0]\n",
    "delay = 1\n",
    "\n",
    "for i in motion:\n",
    "    for Joint in Joint_Var:\n",
    "        err = sim.simxSetJointTargetPosition(clientID, Joint, i,sim.simx_opmode_oneshot_wait)\n",
    "        print(err, i)\n",
    "    time.sleep(delay)"
   ]
  },
  {
   "cell_type": "code",
   "execution_count": null,
   "metadata": {},
   "outputs": [],
   "source": []
  },
  {
   "cell_type": "code",
   "execution_count": null,
   "metadata": {},
   "outputs": [],
   "source": []
  }
 ],
 "metadata": {
  "kernelspec": {
   "display_name": "Python 3",
   "language": "python",
   "name": "python3"
  },
  "language_info": {
   "codemirror_mode": {
    "name": "ipython",
    "version": 3
   },
   "file_extension": ".py",
   "mimetype": "text/x-python",
   "name": "python",
   "nbconvert_exporter": "python",
   "pygments_lexer": "ipython3",
   "version": "3.7.3"
  }
 },
 "nbformat": 4,
 "nbformat_minor": 2
}
