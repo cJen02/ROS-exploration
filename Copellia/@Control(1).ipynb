{
 "cells": [
  {
   "cell_type": "code",
   "execution_count": 30,
   "metadata": {},
   "outputs": [
    {
     "data": {
      "text/plain": [
       "0"
      ]
     },
     "execution_count": 30,
     "metadata": {},
     "output_type": "execute_result"
    }
   ],
   "source": [
    "import sim\n",
    "import time\n",
    "import sys\n",
    "\n",
    "sim.simxFinish(-1)\n",
    "clientID = sim.simxStart('127.0.0.1', 19999, True, True, 5000, 5)         # port-19999\n",
    "\n",
    "clientID"
   ]
  },
  {
   "cell_type": "code",
   "execution_count": 32,
   "metadata": {},
   "outputs": [
    {
     "name": "stdout",
     "output_type": "stream",
     "text": [
      "Number of objects in the scene:  56\n"
     ]
    }
   ],
   "source": [
    "# Now try to retrieve data in a blocking fashion (i.e. a service call):\n",
    "\n",
    "res,objs=sim.simxGetObjects(clientID,sim.sim_handle_all,sim.simx_opmode_blocking)\n",
    "if res==sim.simx_return_ok:\n",
    "    print ('Number of objects in the scene: ',len(objs))\n",
    "else:\n",
    "    print ('Remote API function call returned with error code: ',res)"
   ]
  },
  {
   "cell_type": "code",
   "execution_count": 33,
   "metadata": {},
   "outputs": [
    {
     "name": "stdout",
     "output_type": "stream",
     "text": [
      "0 0\n"
     ]
    }
   ],
   "source": [
    "# setup control variable\n",
    "\n",
    "error_code_1, left_motor_handle = sim.simxGetObjectHandle(clientID, '/PioneerP3DX/leftMotor', sim.simx_opmode_oneshot_wait)\n",
    "error_code_2, right_motor_handle = sim.simxGetObjectHandle(clientID, '/PioneerP3DX/rightMotor', sim.simx_opmode_oneshot_wait)\n",
    "print(error_code_1, error_code_2)"
   ]
  },
  {
   "cell_type": "code",
   "execution_count": 28,
   "metadata": {},
   "outputs": [
    {
     "name": "stdout",
     "output_type": "stream",
     "text": [
      "0 0\n"
     ]
    }
   ],
   "source": [
    "def set_vel(x=0, y=0):\n",
    "    error_code_1 = sim.simxSetJointTargetVelocity(clientID, left_motor_handle, x, sim.simx_opmode_oneshot_wait)\n",
    "    error_code_2 = sim.simxSetJointTargetVelocity(clientID, right_motor_handle, y, sim.simx_opmode_oneshot_wait)\n",
    "    print(error_code_1, error_code_2)\n",
    "    \n",
    "set_vel()"
   ]
  },
  {
   "cell_type": "code",
   "execution_count": 29,
   "metadata": {},
   "outputs": [
    {
     "name": "stdout",
     "output_type": "stream",
     "text": [
      "0 0\n"
     ]
    }
   ],
   "source": [
    "set_vel(1, 0.9)"
   ]
  },
  {
   "cell_type": "code",
   "execution_count": null,
   "metadata": {},
   "outputs": [],
   "source": []
  }
 ],
 "metadata": {
  "kernelspec": {
   "display_name": "Python 3",
   "language": "python",
   "name": "python3"
  },
  "language_info": {
   "codemirror_mode": {
    "name": "ipython",
    "version": 3
   },
   "file_extension": ".py",
   "mimetype": "text/x-python",
   "name": "python",
   "nbconvert_exporter": "python",
   "pygments_lexer": "ipython3",
   "version": "3.7.3"
  }
 },
 "nbformat": 4,
 "nbformat_minor": 2
}
